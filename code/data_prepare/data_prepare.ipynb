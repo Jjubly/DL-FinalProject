{
  "nbformat": 4,
  "nbformat_minor": 0,
  "metadata": {
    "kernelspec": {
      "display_name": "Python 3",
      "language": "python",
      "name": "python3"
    },
    "language_info": {
      "codemirror_mode": {
        "name": "ipython",
        "version": 3
      },
      "file_extension": ".py",
      "mimetype": "text/x-python",
      "name": "python",
      "nbconvert_exporter": "python",
      "pygments_lexer": "ipython3",
      "version": "3.7.3"
    },
    "colab": {
      "name": "data_prepare.ipynb",
      "provenance": [],
      "collapsed_sections": []
    }
  },
  "cells": [
    {
      "cell_type": "code",
      "metadata": {
        "id": "vu-_KPczN3-k",
        "colab_type": "code",
        "colab": {
          "base_uri": "https://localhost:8080/",
          "height": 35
        },
        "outputId": "cf1e0548-d10a-4fc9-b104-634c9e39f1ad"
      },
      "source": [
        "from google.colab import drive\n",
        "drive.mount('/content/drive')"
      ],
      "execution_count": 61,
      "outputs": [
        {
          "output_type": "stream",
          "text": [
            "Drive already mounted at /content/drive; to attempt to forcibly remount, call drive.mount(\"/content/drive\", force_remount=True).\n"
          ],
          "name": "stdout"
        }
      ]
    },
    {
      "cell_type": "code",
      "metadata": {
        "id": "CPKteecdLz1C",
        "colab_type": "code",
        "colab": {}
      },
      "source": [
        "import sys\n",
        "from tqdm import tqdm\n",
        "import os\n",
        "import torch\n",
        "import torch.nn as nn\n",
        "from torch.utils.data import DataLoader, random_split, Dataset, RandomSampler, SequentialSampler\n",
        "import pickle\n",
        "import random\n",
        "import numpy as np\n",
        "import pandas as pd\n",
        "from sklearn.model_selection import train_test_split\n",
        "from ast import literal_eval\n",
        "\n",
        "import nltk\n",
        "import re\n",
        "from nltk.stem import WordNetLemmatizer\n",
        "wordnet_lemmatizer = WordNetLemmatizer()"
      ],
      "execution_count": 0,
      "outputs": []
    },
    {
      "cell_type": "code",
      "metadata": {
        "id": "QjEgOTS7OZAN",
        "colab_type": "code",
        "colab": {}
      },
      "source": [
        "import pandas as pd\n",
        "data_path = '/content/drive/My Drive/DL_Data'"
      ],
      "execution_count": 0,
      "outputs": []
    },
    {
      "cell_type": "markdown",
      "metadata": {
        "id": "XN3yucS1Gofq",
        "colab_type": "text"
      },
      "source": [
        "# EDA for czEng dataset"
      ]
    },
    {
      "cell_type": "code",
      "metadata": {
        "id": "4EzLjKf4GqwM",
        "colab_type": "code",
        "colab": {}
      },
      "source": [
        "cz1 = pd.read_csv(os.path.join(data_path, \"czeng20-train\"), sep=\"\\t\", header=None, quoting=3)\n",
        "cz2 = pd.read_csv(os.path.join(data_path, \"czeng20-test\"), sep=\"\\t\", header=None, quoting=3)"
      ],
      "execution_count": 0,
      "outputs": []
    },
    {
      "cell_type": "code",
      "metadata": {
        "id": "REmpJwFyHBLv",
        "colab_type": "code",
        "colab": {}
      },
      "source": [
        "cz1 = cz1[[4,5]]\n",
        "cz1.columns = ['Czech','English']\n",
        "cz2 = cz2[[4,5]]\n",
        "cz2.columns = ['Czech','English']"
      ],
      "execution_count": 0,
      "outputs": []
    },
    {
      "cell_type": "code",
      "metadata": {
        "id": "Ph-TcU9PIbIO",
        "colab_type": "code",
        "colab": {
          "base_uri": "https://localhost:8080/",
          "height": 411
        },
        "outputId": "b9ab39d2-d677-4be6-b844-ddbb3a05f6aa"
      },
      "source": [
        "cz_data = pd.concat([cz1, cz2],ignore_index=True, sort =False)"
      ],
      "execution_count": 206,
      "outputs": [
        {
          "output_type": "execute_result",
          "data": {
            "text/html": [
              "<div>\n",
              "<style scoped>\n",
              "    .dataframe tbody tr th:only-of-type {\n",
              "        vertical-align: middle;\n",
              "    }\n",
              "\n",
              "    .dataframe tbody tr th {\n",
              "        vertical-align: top;\n",
              "    }\n",
              "\n",
              "    .dataframe thead th {\n",
              "        text-align: right;\n",
              "    }\n",
              "</style>\n",
              "<table border=\"1\" class=\"dataframe\">\n",
              "  <thead>\n",
              "    <tr style=\"text-align: right;\">\n",
              "      <th></th>\n",
              "      <th>Czech</th>\n",
              "      <th>English</th>\n",
              "    </tr>\n",
              "  </thead>\n",
              "  <tbody>\n",
              "    <tr>\n",
              "      <th>0</th>\n",
              "      <td>Ty, drsný dítě z Kwangtungu?</td>\n",
              "      <td>A tough kid from Kwangtung?</td>\n",
              "    </tr>\n",
              "    <tr>\n",
              "      <th>1</th>\n",
              "      <td>Dítě, jehož předkové viseli v koších nad propa...</td>\n",
              "      <td>A kid whose ancestors used to hang in baskets ...</td>\n",
              "    </tr>\n",
              "    <tr>\n",
              "      <th>2</th>\n",
              "      <td>Chci po tobě jen, aby ses proměnil v mouchu na...</td>\n",
              "      <td>All I'm asking you to do is be a fly on the wall.</td>\n",
              "    </tr>\n",
              "    <tr>\n",
              "      <th>3</th>\n",
              "      <td>Tvý předci se teď obrací v hrobech.</td>\n",
              "      <td>Your ancestors are rolling in their graves.</td>\n",
              "    </tr>\n",
              "    <tr>\n",
              "      <th>4</th>\n",
              "      <td>Moc na mě tlaçíte.</td>\n",
              "      <td>You're pushing too much.</td>\n",
              "    </tr>\n",
              "    <tr>\n",
              "      <th>...</th>\n",
              "      <td>...</td>\n",
              "      <td>...</td>\n",
              "    </tr>\n",
              "    <tr>\n",
              "      <th>492591</th>\n",
              "      <td>Ale tentokrát... se musíme vkrást do Linderman...</td>\n",
              "      <td>Only this time... we have to sneak into Linder...</td>\n",
              "    </tr>\n",
              "    <tr>\n",
              "      <th>492592</th>\n",
              "      <td>Přiznej si to, Hiro.</td>\n",
              "      <td>Face it, Hiro.</td>\n",
              "    </tr>\n",
              "    <tr>\n",
              "      <th>492593</th>\n",
              "      <td>Je to ztracený případ.</td>\n",
              "      <td>It's a lost cause.</td>\n",
              "    </tr>\n",
              "    <tr>\n",
              "      <th>492594</th>\n",
              "      <td>Já se nikdy nevzdám, Ando.</td>\n",
              "      <td>Ando. I will never give up.</td>\n",
              "    </tr>\n",
              "    <tr>\n",
              "      <th>492595</th>\n",
              "      <td>A ty bys neměl taky.</td>\n",
              "      <td>And neither should you.</td>\n",
              "    </tr>\n",
              "  </tbody>\n",
              "</table>\n",
              "<p>492596 rows × 2 columns</p>\n",
              "</div>"
            ],
            "text/plain": [
              "                                                    Czech                                            English\n",
              "0                            Ty, drsný dítě z Kwangtungu?                        A tough kid from Kwangtung?\n",
              "1       Dítě, jehož předkové viseli v koších nad propa...  A kid whose ancestors used to hang in baskets ...\n",
              "2       Chci po tobě jen, aby ses proměnil v mouchu na...  All I'm asking you to do is be a fly on the wall.\n",
              "3                     Tvý předci se teď obrací v hrobech.        Your ancestors are rolling in their graves.\n",
              "4                                      Moc na mě tlaçíte.                           You're pushing too much.\n",
              "...                                                   ...                                                ...\n",
              "492591  Ale tentokrát... se musíme vkrást do Linderman...  Only this time... we have to sneak into Linder...\n",
              "492592                               Přiznej si to, Hiro.                                     Face it, Hiro.\n",
              "492593                             Je to ztracený případ.                                 It's a lost cause.\n",
              "492594                         Já se nikdy nevzdám, Ando.                        Ando. I will never give up.\n",
              "492595                               A ty bys neměl taky.                            And neither should you.\n",
              "\n",
              "[492596 rows x 2 columns]"
            ]
          },
          "metadata": {
            "tags": []
          },
          "execution_count": 206
        }
      ]
    },
    {
      "cell_type": "markdown",
      "metadata": {
        "id": "unmD-GFIN_HB",
        "colab_type": "text"
      },
      "source": [
        "# EDA for OdEng dataset"
      ]
    },
    {
      "cell_type": "code",
      "metadata": {
        "id": "KLeyH4HWN5oD",
        "colab_type": "code",
        "colab": {}
      },
      "source": [
        "od1 = pd.read_csv(os.path.join(data_path, \"train.final\"), sep=\"\\t\", header=None)\n",
        "od1.columns = ['Source', 'English', 'Odia']\n",
        "\n",
        "od2 = pd.read_csv(os.path.join(data_path, \"dev.final\"), sep=\"\\t\", header=None)\n",
        "od2.columns = ['Source', 'English', 'Odia']\n",
        "\n",
        "od3 = pd.read_csv(os.path.join(data_path, \"test.final\"), sep=\"\\t\", header=None)\n",
        "od3.columns = ['Source', 'English', 'Odia']"
      ],
      "execution_count": 0,
      "outputs": []
    },
    {
      "cell_type": "code",
      "metadata": {
        "id": "-8UpWvbctHvD",
        "colab_type": "code",
        "colab": {}
      },
      "source": [
        "od_data = pd.concat([od1, od2, od3], ignore_index=True)"
      ],
      "execution_count": 0,
      "outputs": []
    },
    {
      "cell_type": "code",
      "metadata": {
        "id": "KlW--3_AtJZC",
        "colab_type": "code",
        "colab": {
          "base_uri": "https://localhost:8080/",
          "height": 411
        },
        "outputId": "4c0164a1-9e08-4924-c391-14ea4b44f4ca"
      },
      "source": [
        "od_data"
      ],
      "execution_count": 108,
      "outputs": [
        {
          "output_type": "execute_result",
          "data": {
            "text/html": [
              "<div>\n",
              "<style scoped>\n",
              "    .dataframe tbody tr th:only-of-type {\n",
              "        vertical-align: middle;\n",
              "    }\n",
              "\n",
              "    .dataframe tbody tr th {\n",
              "        vertical-align: top;\n",
              "    }\n",
              "\n",
              "    .dataframe thead th {\n",
              "        text-align: right;\n",
              "    }\n",
              "</style>\n",
              "<table border=\"1\" class=\"dataframe\">\n",
              "  <thead>\n",
              "    <tr style=\"text-align: right;\">\n",
              "      <th></th>\n",
              "      <th>Source</th>\n",
              "      <th>English</th>\n",
              "      <th>Odia</th>\n",
              "    </tr>\n",
              "  </thead>\n",
              "  <tbody>\n",
              "    <tr>\n",
              "      <th>0</th>\n",
              "      <td>genesis</td>\n",
              "      <td>In the beginning God created the heaven and th...</td>\n",
              "      <td>ଆରମ୍ଭରେ ପରମେଶ୍ବର ଆକାଶ ଓ ପୃଥିବୀକୁ ସୃଷ୍ଟି କଲେ।</td>\n",
              "    </tr>\n",
              "    <tr>\n",
              "      <th>1</th>\n",
              "      <td>genesis</td>\n",
              "      <td>And the earth was without form, and void; and ...</td>\n",
              "      <td>ପୃଥିବୀ ସେତବେେଳେ ସଂପୂରନ୍ଭାବେ ଶୂନ୍ଯ ଓ କିଛି ନଥିଲା...</td>\n",
              "    </tr>\n",
              "    <tr>\n",
              "      <th>2</th>\n",
              "      <td>genesis</td>\n",
              "      <td>And God saw the light, that it was good: and G...</td>\n",
              "      <td>ପରମେଶ୍ବର ଆଲୋକକୁ ଦେଖିଲେ ଏବଂ ସେ ଜାଣିଲେ, ତାହା ଉତ୍...</td>\n",
              "    </tr>\n",
              "    <tr>\n",
              "      <th>3</th>\n",
              "      <td>genesis</td>\n",
              "      <td>And God called the light Day, and the darkness...</td>\n",
              "      <td>ପରମେଶ୍ବର ସହେି ଆଲୋକର ନାମ ଦେଲେ \" ଦିନ\" ଏବଂ ଅନ୍ଧକା...</td>\n",
              "    </tr>\n",
              "    <tr>\n",
              "      <th>4</th>\n",
              "      <td>genesis</td>\n",
              "      <td>And God said, Let there be a firmament in the ...</td>\n",
              "      <td>ଏହାପରେ ପରମେଶ୍ବର କହିଲେ, \"ଜଳ ମଧିଅରେ ବୃହତ ଗମ୍ବୁଜ ...</td>\n",
              "    </tr>\n",
              "    <tr>\n",
              "      <th>...</th>\n",
              "      <td>...</td>\n",
              "      <td>...</td>\n",
              "      <td>...</td>\n",
              "    </tr>\n",
              "    <tr>\n",
              "      <th>25831</th>\n",
              "      <td>odia_bibhaba</td>\n",
              "      <td>But he is best remembered for his numerous sto...</td>\n",
              "      <td>ଫତୁରାନନ୍ଦଙ୍କର ଯେ କୌଣସି ରଚନା ପାଠ କଲେ ବି ତାଙ୍କର ...</td>\n",
              "    </tr>\n",
              "    <tr>\n",
              "      <th>25832</th>\n",
              "      <td>odia_bibhaba</td>\n",
              "      <td>He was deeply influenced by a senior writer an...</td>\n",
              "      <td>ପ୍ରଥମରୁ ସେ ଲେଖକ ହେବା କଥା ଭାବି ନ ଥିଲେ। ପରେ କାନ୍...</td>\n",
              "    </tr>\n",
              "    <tr>\n",
              "      <th>25833</th>\n",
              "      <td>odia_bibhaba</td>\n",
              "      <td>Towards the end of his life, he was not keepin...</td>\n",
              "      <td>ଜୀବନର ଶେଷ ବେଳକୁ ତାଙ୍କ ଶରୀର ସୁସ୍ଥ ରହୁ ନ ଥିଲା। ତ...</td>\n",
              "    </tr>\n",
              "    <tr>\n",
              "      <th>25834</th>\n",
              "      <td>odia_bibhaba</td>\n",
              "      <td>Having carved out a permanent place for himsel...</td>\n",
              "      <td>ତାଙ୍କ ରଚନା ଭିତରେ ରହିଛି ଗଳ୍ପ, ଉପନ୍ୟାସ, କାବ୍ୟ, କ...</td>\n",
              "    </tr>\n",
              "    <tr>\n",
              "      <th>25835</th>\n",
              "      <td>odia_bibhaba</td>\n",
              "      <td>Digital versions of Faturananda’s writings can...</td>\n",
              "      <td>ତଳ ସୂଚୀ ସାହାଯ୍ୟରେ ଫତୁରାନନ୍ଦଙ୍କର ସର୍ଜନାର ଡିଜିଟା...</td>\n",
              "    </tr>\n",
              "  </tbody>\n",
              "</table>\n",
              "<p>25836 rows × 3 columns</p>\n",
              "</div>"
            ],
            "text/plain": [
              "             Source  ...                                               Odia\n",
              "0           genesis  ...       ଆରମ୍ଭରେ ପରମେଶ୍ବର ଆକାଶ ଓ ପୃଥିବୀକୁ ସୃଷ୍ଟି କଲେ।\n",
              "1           genesis  ...  ପୃଥିବୀ ସେତବେେଳେ ସଂପୂରନ୍ଭାବେ ଶୂନ୍ଯ ଓ କିଛି ନଥିଲା...\n",
              "2           genesis  ...  ପରମେଶ୍ବର ଆଲୋକକୁ ଦେଖିଲେ ଏବଂ ସେ ଜାଣିଲେ, ତାହା ଉତ୍...\n",
              "3           genesis  ...  ପରମେଶ୍ବର ସହେି ଆଲୋକର ନାମ ଦେଲେ \" ଦିନ\" ଏବଂ ଅନ୍ଧକା...\n",
              "4           genesis  ...  ଏହାପରେ ପରମେଶ୍ବର କହିଲେ, \"ଜଳ ମଧିଅରେ ବୃହତ ଗମ୍ବୁଜ ...\n",
              "...             ...  ...                                                ...\n",
              "25831  odia_bibhaba  ...  ଫତୁରାନନ୍ଦଙ୍କର ଯେ କୌଣସି ରଚନା ପାଠ କଲେ ବି ତାଙ୍କର ...\n",
              "25832  odia_bibhaba  ...  ପ୍ରଥମରୁ ସେ ଲେଖକ ହେବା କଥା ଭାବି ନ ଥିଲେ। ପରେ କାନ୍...\n",
              "25833  odia_bibhaba  ...  ଜୀବନର ଶେଷ ବେଳକୁ ତାଙ୍କ ଶରୀର ସୁସ୍ଥ ରହୁ ନ ଥିଲା। ତ...\n",
              "25834  odia_bibhaba  ...  ତାଙ୍କ ରଚନା ଭିତରେ ରହିଛି ଗଳ୍ପ, ଉପନ୍ୟାସ, କାବ୍ୟ, କ...\n",
              "25835  odia_bibhaba  ...  ତଳ ସୂଚୀ ସାହାଯ୍ୟରେ ଫତୁରାନନ୍ଦଙ୍କର ସର୍ଜନାର ଡିଜିଟା...\n",
              "\n",
              "[25836 rows x 3 columns]"
            ]
          },
          "metadata": {
            "tags": []
          },
          "execution_count": 108
        }
      ]
    },
    {
      "cell_type": "markdown",
      "metadata": {
        "id": "fPjTiCJmVNx0",
        "colab_type": "text"
      },
      "source": [
        "# EDA for psEng dataset\n",
        "## kde4 dataset"
      ]
    },
    {
      "cell_type": "code",
      "metadata": {
        "id": "nX4ZcTq6RDXZ",
        "colab_type": "code",
        "colab": {}
      },
      "source": [
        "kde4 = pd.read_csv(os.path.join(data_path, \"KDE4.en-ps.en\"), sep='\\n', header=None)\n",
        "kde4.columns = ['English']\n",
        "kde4.insert(0, 'Source', 'KDE4')\n",
        "kde4['Pashto'] = pd.read_csv(os.path.join(data_path, \"KDE4.en-ps.ps\"),sep='\\n', header=None)"
      ],
      "execution_count": 0,
      "outputs": []
    },
    {
      "cell_type": "code",
      "metadata": {
        "id": "WBWpIzmdUExx",
        "colab_type": "code",
        "colab": {
          "base_uri": "https://localhost:8080/",
          "height": 411
        },
        "outputId": "3795191b-1310-47f4-c5b3-7f3c650ad52b"
      },
      "source": [
        "kde4"
      ],
      "execution_count": 66,
      "outputs": [
        {
          "output_type": "execute_result",
          "data": {
            "text/html": [
              "<div>\n",
              "<style scoped>\n",
              "    .dataframe tbody tr th:only-of-type {\n",
              "        vertical-align: middle;\n",
              "    }\n",
              "\n",
              "    .dataframe tbody tr th {\n",
              "        vertical-align: top;\n",
              "    }\n",
              "\n",
              "    .dataframe thead th {\n",
              "        text-align: right;\n",
              "    }\n",
              "</style>\n",
              "<table border=\"1\" class=\"dataframe\">\n",
              "  <thead>\n",
              "    <tr style=\"text-align: right;\">\n",
              "      <th></th>\n",
              "      <th>Source</th>\n",
              "      <th>English</th>\n",
              "      <th>Pashto</th>\n",
              "    </tr>\n",
              "  </thead>\n",
              "  <tbody>\n",
              "    <tr>\n",
              "      <th>0</th>\n",
              "      <td>KDE4</td>\n",
              "      <td>Size &amp; &amp; Orientation</td>\n",
              "      <td>کچ &amp; &amp; لورموندنه</td>\n",
              "    </tr>\n",
              "    <tr>\n",
              "      <th>1</th>\n",
              "      <td>KDE4</td>\n",
              "      <td>Graphics Adaptor</td>\n",
              "      <td>کښنيز اړوونی</td>\n",
              "    </tr>\n",
              "    <tr>\n",
              "      <th>2</th>\n",
              "      <td>KDE4</td>\n",
              "      <td>3D Options</td>\n",
              "      <td>غوراوي 3D</td>\n",
              "    </tr>\n",
              "    <tr>\n",
              "      <th>3</th>\n",
              "      <td>KDE4</td>\n",
              "      <td>Monitor Gamma</td>\n",
              "      <td>ليداني ګاما</td>\n",
              "    </tr>\n",
              "    <tr>\n",
              "      <th>4</th>\n",
              "      <td>KDE4</td>\n",
              "      <td>Multiple Monitors</td>\n",
              "      <td>ګڼ ليداني</td>\n",
              "    </tr>\n",
              "    <tr>\n",
              "      <th>...</th>\n",
              "      <td>...</td>\n",
              "      <td>...</td>\n",
              "      <td>...</td>\n",
              "    </tr>\n",
              "    <tr>\n",
              "      <th>3372</th>\n",
              "      <td>KDE4</td>\n",
              "      <td>An error occurred while loading %1:</td>\n",
              "      <td>سپړاويز ونه کوت</td>\n",
              "    </tr>\n",
              "    <tr>\n",
              "      <th>3373</th>\n",
              "      <td>KDE4</td>\n",
              "      <td>Error:</td>\n",
              "      <td>پټې دوتنې ښودل</td>\n",
              "    </tr>\n",
              "    <tr>\n",
              "      <th>3374</th>\n",
              "      <td>KDE4</td>\n",
              "      <td>Tag Resource</td>\n",
              "      <td>د ځای چلونې لپاره کېکاږﺉ</td>\n",
              "    </tr>\n",
              "    <tr>\n",
              "      <th>3375</th>\n",
              "      <td>KDE4</td>\n",
              "      <td>Please select the file to open.</td>\n",
              "      <td>چلول</td>\n",
              "    </tr>\n",
              "    <tr>\n",
              "      <th>3376</th>\n",
              "      <td>KDE4</td>\n",
              "      <td>Ok</td>\n",
              "      <td>بشپړ يونلور ښودل</td>\n",
              "    </tr>\n",
              "  </tbody>\n",
              "</table>\n",
              "<p>3377 rows × 3 columns</p>\n",
              "</div>"
            ],
            "text/plain": [
              "     Source                              English                    Pashto\n",
              "0      KDE4                 Size & & Orientation          کچ & & لورموندنه\n",
              "1      KDE4                     Graphics Adaptor              کښنيز اړوونی\n",
              "2      KDE4                           3D Options                 غوراوي 3D\n",
              "3      KDE4                        Monitor Gamma               ليداني ګاما\n",
              "4      KDE4                    Multiple Monitors                 ګڼ ليداني\n",
              "...     ...                                  ...                       ...\n",
              "3372   KDE4  An error occurred while loading %1:           سپړاويز ونه کوت\n",
              "3373   KDE4                               Error:            پټې دوتنې ښودل\n",
              "3374   KDE4                         Tag Resource  د ځای چلونې لپاره کېکاږﺉ\n",
              "3375   KDE4      Please select the file to open.                      چلول\n",
              "3376   KDE4                                   Ok          بشپړ يونلور ښودل\n",
              "\n",
              "[3377 rows x 3 columns]"
            ]
          },
          "metadata": {
            "tags": []
          },
          "execution_count": 66
        }
      ]
    },
    {
      "cell_type": "markdown",
      "metadata": {
        "id": "5Tqh64UpVxOP",
        "colab_type": "text"
      },
      "source": [
        "## Ubuntu dataset"
      ]
    },
    {
      "cell_type": "code",
      "metadata": {
        "id": "3eigQaUFVwWO",
        "colab_type": "code",
        "colab": {}
      },
      "source": [
        "ubuntu = pd.read_csv(os.path.join(data_path, \"Ubuntu.en-ps.en\"), sep='\\n', header=None)\n",
        "ubuntu.columns = ['English']\n",
        "ubuntu.insert(0, 'Source', 'Ubuntu')\n",
        "ubuntu['Pashto'] = pd.read_csv(os.path.join(data_path, \"Ubuntu.en-ps.ps\"),sep='\\n', header=None)"
      ],
      "execution_count": 0,
      "outputs": []
    },
    {
      "cell_type": "code",
      "metadata": {
        "id": "rtwTWo62WBdl",
        "colab_type": "code",
        "colab": {
          "base_uri": "https://localhost:8080/",
          "height": 411
        },
        "outputId": "c80ebbf0-a430-45c4-9def-6cccab095fa9"
      },
      "source": [
        "# Drop the first 53 rows since it has English in 'Pashto' language\n",
        "ubuntu_clean = ubuntu[54:]\n",
        "ubuntu_clean"
      ],
      "execution_count": 68,
      "outputs": [
        {
          "output_type": "execute_result",
          "data": {
            "text/html": [
              "<div>\n",
              "<style scoped>\n",
              "    .dataframe tbody tr th:only-of-type {\n",
              "        vertical-align: middle;\n",
              "    }\n",
              "\n",
              "    .dataframe tbody tr th {\n",
              "        vertical-align: top;\n",
              "    }\n",
              "\n",
              "    .dataframe thead th {\n",
              "        text-align: right;\n",
              "    }\n",
              "</style>\n",
              "<table border=\"1\" class=\"dataframe\">\n",
              "  <thead>\n",
              "    <tr style=\"text-align: right;\">\n",
              "      <th></th>\n",
              "      <th>Source</th>\n",
              "      <th>English</th>\n",
              "      <th>Pashto</th>\n",
              "    </tr>\n",
              "  </thead>\n",
              "  <tbody>\n",
              "    <tr>\n",
              "      <th>54</th>\n",
              "      <td>Ubuntu</td>\n",
              "      <td>Selected Link</td>\n",
              "      <td>ټاکل شوې تړنه</td>\n",
              "    </tr>\n",
              "    <tr>\n",
              "      <th>55</th>\n",
              "      <td>Ubuntu</td>\n",
              "      <td>Specifies whether the AtkHyperlink object is s...</td>\n",
              "      <td>څيز ټاکل شوی وي Atk-ځانګړې کوي چې که چېرې لوپېوند</td>\n",
              "    </tr>\n",
              "    <tr>\n",
              "      <th>56</th>\n",
              "      <td>Ubuntu</td>\n",
              "      <td>Number of Anchors</td>\n",
              "      <td>د استلو شمېر</td>\n",
              "    </tr>\n",
              "    <tr>\n",
              "      <th>57</th>\n",
              "      <td>Ubuntu</td>\n",
              "      <td>The number of anchors associated with the AtkH...</td>\n",
              "      <td>څيز پورې نښتي وي Atk-د هغو استلو شمېر چې د لوپ...</td>\n",
              "    </tr>\n",
              "    <tr>\n",
              "      <th>58</th>\n",
              "      <td>Ubuntu</td>\n",
              "      <td>End index</td>\n",
              "      <td>پای لړيال</td>\n",
              "    </tr>\n",
              "    <tr>\n",
              "      <th>...</th>\n",
              "      <td>...</td>\n",
              "      <td>...</td>\n",
              "      <td>...</td>\n",
              "    </tr>\n",
              "    <tr>\n",
              "      <th>9640</th>\n",
              "      <td>Ubuntu</td>\n",
              "      <td>Show warning options</td>\n",
              "      <td>خبرتيا غوراوي ښودل</td>\n",
              "    </tr>\n",
              "    <tr>\n",
              "      <th>9641</th>\n",
              "      <td>Ubuntu</td>\n",
              "      <td>Scale options</td>\n",
              "      <td>کچ غوراوي</td>\n",
              "    </tr>\n",
              "    <tr>\n",
              "      <th>9642</th>\n",
              "      <td>Ubuntu</td>\n",
              "      <td>Show scale options</td>\n",
              "      <td>کچ غوراوي ښودل</td>\n",
              "    </tr>\n",
              "    <tr>\n",
              "      <th>9643</th>\n",
              "      <td>Ubuntu</td>\n",
              "      <td>Miscellaneous options</td>\n",
              "      <td>ګډوډ غوراوي</td>\n",
              "    </tr>\n",
              "    <tr>\n",
              "      <th>9644</th>\n",
              "      <td>Ubuntu</td>\n",
              "      <td>Show miscellaneous options</td>\n",
              "      <td>ګډوډ غوراوي ښودل</td>\n",
              "    </tr>\n",
              "  </tbody>\n",
              "</table>\n",
              "<p>9591 rows × 3 columns</p>\n",
              "</div>"
            ],
            "text/plain": [
              "      Source  ...                                             Pashto\n",
              "54    Ubuntu  ...                                      ټاکل شوې تړنه\n",
              "55    Ubuntu  ...  څيز ټاکل شوی وي Atk-ځانګړې کوي چې که چېرې لوپېوند\n",
              "56    Ubuntu  ...                                       د استلو شمېر\n",
              "57    Ubuntu  ...  څيز پورې نښتي وي Atk-د هغو استلو شمېر چې د لوپ...\n",
              "58    Ubuntu  ...                                          پای لړيال\n",
              "...      ...  ...                                                ...\n",
              "9640  Ubuntu  ...                                 خبرتيا غوراوي ښودل\n",
              "9641  Ubuntu  ...                                          کچ غوراوي\n",
              "9642  Ubuntu  ...                                     کچ غوراوي ښودل\n",
              "9643  Ubuntu  ...                                        ګډوډ غوراوي\n",
              "9644  Ubuntu  ...                                   ګډوډ غوراوي ښودل\n",
              "\n",
              "[9591 rows x 3 columns]"
            ]
          },
          "metadata": {
            "tags": []
          },
          "execution_count": 68
        }
      ]
    },
    {
      "cell_type": "markdown",
      "metadata": {
        "id": "qTI7fSUaWyXH",
        "colab_type": "text"
      },
      "source": [
        "## Ted talk dataset"
      ]
    },
    {
      "cell_type": "code",
      "metadata": {
        "id": "VrW0zuu4W14P",
        "colab_type": "code",
        "colab": {}
      },
      "source": [
        "ted = pd.read_csv(os.path.join(data_path, \"ted-wmt20.en-ps.en\"), sep='\\n',header=None, quoting=3)\n",
        "ted.columns = ['English']\n",
        "ted.insert(0, 'Source', 'Ted')\n",
        "ted['Pashto'] = pd.read_csv(os.path.join(data_path, \"ted-wmt20.en-ps.ps\"),sep='\\n', header=None)"
      ],
      "execution_count": 0,
      "outputs": []
    },
    {
      "cell_type": "code",
      "metadata": {
        "id": "iNIj9KKbmNt6",
        "colab_type": "code",
        "colab": {
          "base_uri": "https://localhost:8080/",
          "height": 411
        },
        "outputId": "7089c8ab-85be-447e-b26d-d4fbf18539e8"
      },
      "source": [
        "ted"
      ],
      "execution_count": 83,
      "outputs": [
        {
          "output_type": "execute_result",
          "data": {
            "text/html": [
              "<div>\n",
              "<style scoped>\n",
              "    .dataframe tbody tr th:only-of-type {\n",
              "        vertical-align: middle;\n",
              "    }\n",
              "\n",
              "    .dataframe tbody tr th {\n",
              "        vertical-align: top;\n",
              "    }\n",
              "\n",
              "    .dataframe thead th {\n",
              "        text-align: right;\n",
              "    }\n",
              "</style>\n",
              "<table border=\"1\" class=\"dataframe\">\n",
              "  <thead>\n",
              "    <tr style=\"text-align: right;\">\n",
              "      <th></th>\n",
              "      <th>Source</th>\n",
              "      <th>English</th>\n",
              "      <th>Pashto</th>\n",
              "    </tr>\n",
              "  </thead>\n",
              "  <tbody>\n",
              "    <tr>\n",
              "      <th>0</th>\n",
              "      <td>Ted</td>\n",
              "      <td>A public, Dewey long ago observed, is constitu...</td>\n",
              "      <td>کلونه مخکې، ډیوي ،امریکایي فیلسوف) وپتیېله چې) .</td>\n",
              "    </tr>\n",
              "    <tr>\n",
              "      <th>1</th>\n",
              "      <td>Ted</td>\n",
              "      <td>If we are to call the tyranny of assumptions i...</td>\n",
              "      <td>یوه ټولنه د بحث او مناظرې په ترڅ کې رامنځته کې...</td>\n",
              "    </tr>\n",
              "    <tr>\n",
              "      <th>2</th>\n",
              "      <td>Ted</td>\n",
              "      <td>It is in this spirit that I join into a discus...</td>\n",
              "      <td>تر بحث او مناظرې لاندې راولو د همدې روحیې په ل...</td>\n",
              "    </tr>\n",
              "    <tr>\n",
              "      <th>3</th>\n",
              "      <td>Ted</td>\n",
              "      <td>To put the assumptions very clearly: capitalis...</td>\n",
              "      <td>د دولت جوړونې د پروژې لپار بسیج او تنظیم شي :د...</td>\n",
              "    </tr>\n",
              "    <tr>\n",
              "      <th>4</th>\n",
              "      <td>Ted</td>\n",
              "      <td>If we looked in the world of 1945 and looked a...</td>\n",
              "      <td>او په همدې توګه دموکراسي که چېرې د ۱۹۴۵ نړۍ ته...</td>\n",
              "    </tr>\n",
              "    <tr>\n",
              "      <th>...</th>\n",
              "      <td>...</td>\n",
              "      <td>...</td>\n",
              "      <td>...</td>\n",
              "    </tr>\n",
              "    <tr>\n",
              "      <th>659</th>\n",
              "      <td>Ted</td>\n",
              "      <td>Ladies and gentlemen, if we glance to human hi...</td>\n",
              "      <td>که موږ انساني تاريخ و ګورو د ښځې داستان د ښځې ...</td>\n",
              "    </tr>\n",
              "    <tr>\n",
              "      <th>660</th>\n",
              "      <td>Ted</td>\n",
              "      <td>Ladies and gentlemen, this plight of millions ...</td>\n",
              "      <td>يوه شاعره وايي: نجلۍ ودېږي، مجبورېږي او بيا ډې...</td>\n",
              "    </tr>\n",
              "    <tr>\n",
              "      <th>661</th>\n",
              "      <td>Ted</td>\n",
              "      <td>A few days after Malala was born, my daughter ...</td>\n",
              "      <td>د ميلينونو مېرمنو دا بد حالت بدلېداى شي که موږ...</td>\n",
              "    </tr>\n",
              "    <tr>\n",
              "      <th>662</th>\n",
              "      <td>Ted</td>\n",
              "      <td>You put your life at stake for the cause of tr...</td>\n",
              "      <td>دې سمدستي راته وويل مهرباني وکه ته ولې ځان ملا...</td>\n",
              "    </tr>\n",
              "    <tr>\n",
              "      <th>663</th>\n",
              "      <td>Ted</td>\n",
              "      <td>These few words meant a lot to me, and I didn'...</td>\n",
              "      <td>موږ له دې زده کړل، چي په سختۍ کې څوک څنګه بايد...</td>\n",
              "    </tr>\n",
              "  </tbody>\n",
              "</table>\n",
              "<p>664 rows × 3 columns</p>\n",
              "</div>"
            ],
            "text/plain": [
              "    Source  ...                                             Pashto\n",
              "0      Ted  ...   کلونه مخکې، ډیوي ،امریکایي فیلسوف) وپتیېله چې) .\n",
              "1      Ted  ...  یوه ټولنه د بحث او مناظرې په ترڅ کې رامنځته کې...\n",
              "2      Ted  ...  تر بحث او مناظرې لاندې راولو د همدې روحیې په ل...\n",
              "3      Ted  ...  د دولت جوړونې د پروژې لپار بسیج او تنظیم شي :د...\n",
              "4      Ted  ...  او په همدې توګه دموکراسي که چېرې د ۱۹۴۵ نړۍ ته...\n",
              "..     ...  ...                                                ...\n",
              "659    Ted  ...  که موږ انساني تاريخ و ګورو د ښځې داستان د ښځې ...\n",
              "660    Ted  ...  يوه شاعره وايي: نجلۍ ودېږي، مجبورېږي او بيا ډې...\n",
              "661    Ted  ...  د ميلينونو مېرمنو دا بد حالت بدلېداى شي که موږ...\n",
              "662    Ted  ...  دې سمدستي راته وويل مهرباني وکه ته ولې ځان ملا...\n",
              "663    Ted  ...  موږ له دې زده کړل، چي په سختۍ کې څوک څنګه بايد...\n",
              "\n",
              "[664 rows x 3 columns]"
            ]
          },
          "metadata": {
            "tags": []
          },
          "execution_count": 83
        }
      ]
    },
    {
      "cell_type": "markdown",
      "metadata": {
        "id": "v9Xdf7aKl_0V",
        "colab_type": "text"
      },
      "source": [
        "# Bible dataset"
      ]
    },
    {
      "cell_type": "code",
      "metadata": {
        "id": "6pUbgumNW_mH",
        "colab_type": "code",
        "colab": {}
      },
      "source": [
        "bible = pd.read_csv(os.path.join(data_path, \"bible.en-ps.clean.en\"), sep='\\n', header=None, quoting=3)\n",
        "bible.columns = ['English']\n",
        "bible.insert(0, 'Source', 'Bible')\n",
        "bible['Pashto'] = pd.read_csv(os.path.join(data_path, \"bible.en-ps.clean.ps\"),sep='\\n', header=None)"
      ],
      "execution_count": 0,
      "outputs": []
    },
    {
      "cell_type": "code",
      "metadata": {
        "id": "H2hCuYWCmMp4",
        "colab_type": "code",
        "colab": {
          "base_uri": "https://localhost:8080/",
          "height": 35
        },
        "outputId": "6ea60ee4-324c-4610-b516-ac5b4816e229"
      },
      "source": [
        "bible['English'][3]"
      ],
      "execution_count": 128,
      "outputs": [
        {
          "output_type": "execute_result",
          "data": {
            "text/plain": [
              "'God saw that the light was good. God separated the light from the darkness.'"
            ]
          },
          "metadata": {
            "tags": []
          },
          "execution_count": 128
        }
      ]
    },
    {
      "cell_type": "code",
      "metadata": {
        "id": "hWOXDp_Ux6D6",
        "colab_type": "code",
        "colab": {
          "base_uri": "https://localhost:8080/",
          "height": 35
        },
        "outputId": "71135486-7dda-440b-a98b-0f596048b624"
      },
      "source": [
        "bible['Pashto'][3]"
      ],
      "execution_count": 123,
      "outputs": [
        {
          "output_type": "execute_result",
          "data": {
            "text/plain": [
              "'خُدائ پاک په دې ليدو خوشحاله وو . بيا هغۀ رڼا د تيارې نه جُدا کړه ،'"
            ]
          },
          "metadata": {
            "tags": []
          },
          "execution_count": 123
        }
      ]
    },
    {
      "cell_type": "code",
      "metadata": {
        "id": "ODhADk6Yx-Az",
        "colab_type": "code",
        "colab": {
          "base_uri": "https://localhost:8080/",
          "height": 35
        },
        "outputId": "f5e2f14c-4440-4ad3-a6e7-40b76889d76c"
      },
      "source": [
        "bible['English'][4]"
      ],
      "execution_count": 124,
      "outputs": [
        {
          "output_type": "execute_result",
          "data": {
            "text/plain": [
              "'God called the light day. He called the darkness night. There was evening and there was morning, one day.'"
            ]
          },
          "metadata": {
            "tags": []
          },
          "execution_count": 124
        }
      ]
    },
    {
      "cell_type": "code",
      "metadata": {
        "id": "_IcV3785x-E2",
        "colab_type": "code",
        "colab": {
          "base_uri": "https://localhost:8080/",
          "height": 35
        },
        "outputId": "4901996c-4fdc-49f6-87ac-a489c8382ecf"
      },
      "source": [
        "bible['Pashto'][4]"
      ],
      "execution_count": 125,
      "outputs": [
        {
          "output_type": "execute_result",
          "data": {
            "text/plain": [
              "'اؤ په رڼا يې ” ورځ “ نُوم کېښودو اؤ په تيارۀ يې ” شپه “ . شپه تېره شوه . اؤ سحر شو . دا وړومبۍ ورځ وه .'"
            ]
          },
          "metadata": {
            "tags": []
          },
          "execution_count": 125
        }
      ]
    },
    {
      "cell_type": "code",
      "metadata": {
        "id": "8TJyEbTdyoLD",
        "colab_type": "code",
        "colab": {
          "base_uri": "https://localhost:8080/",
          "height": 35
        },
        "outputId": "51e25352-20f0-43dc-8b21-a0a25f762a94"
      },
      "source": [
        "bible['English'][5]"
      ],
      "execution_count": 129,
      "outputs": [
        {
          "output_type": "execute_result",
          "data": {
            "text/plain": [
              "'Then God said: \"Let there be an expanse in the middle of the waters. Let it separate the waters from the waters.\"'"
            ]
          },
          "metadata": {
            "tags": []
          },
          "execution_count": 129
        }
      ]
    },
    {
      "cell_type": "code",
      "metadata": {
        "id": "ZU-V7Dm7yoO4",
        "colab_type": "code",
        "colab": {
          "base_uri": "https://localhost:8080/",
          "height": 35
        },
        "outputId": "a2857b94-1d84-4c08-d545-a9b4aa35f3fc"
      },
      "source": [
        "bible['Pashto'][5]"
      ],
      "execution_count": 131,
      "outputs": [
        {
          "output_type": "execute_result",
          "data": {
            "text/plain": [
              "'بيا خُدائ پاک حُکم وکړو چې ، ” د پاسنو او لاندينو اوبو تر مينځه دې فضا جوړه شى . “'"
            ]
          },
          "metadata": {
            "tags": []
          },
          "execution_count": 131
        }
      ]
    },
    {
      "cell_type": "markdown",
      "metadata": {
        "id": "75ESDXdFqulI",
        "colab_type": "text"
      },
      "source": [
        "### Combine all Odi datasets "
      ]
    },
    {
      "cell_type": "code",
      "metadata": {
        "id": "qzy3wLZzquJd",
        "colab_type": "code",
        "colab": {}
      },
      "source": [
        "ps_data = pd.concat([kde4, ubuntu, ted, bible], ignore_index=True, sort =False)"
      ],
      "execution_count": 0,
      "outputs": []
    },
    {
      "cell_type": "code",
      "metadata": {
        "id": "ZdFmP43frNTK",
        "colab_type": "code",
        "colab": {
          "base_uri": "https://localhost:8080/",
          "height": 411
        },
        "outputId": "429c7ab1-1f2f-4d45-e62b-aa44d9240a70"
      },
      "source": [
        "ps_data"
      ],
      "execution_count": 89,
      "outputs": [
        {
          "output_type": "execute_result",
          "data": {
            "text/html": [
              "<div>\n",
              "<style scoped>\n",
              "    .dataframe tbody tr th:only-of-type {\n",
              "        vertical-align: middle;\n",
              "    }\n",
              "\n",
              "    .dataframe tbody tr th {\n",
              "        vertical-align: top;\n",
              "    }\n",
              "\n",
              "    .dataframe thead th {\n",
              "        text-align: right;\n",
              "    }\n",
              "</style>\n",
              "<table border=\"1\" class=\"dataframe\">\n",
              "  <thead>\n",
              "    <tr style=\"text-align: right;\">\n",
              "      <th></th>\n",
              "      <th>Source</th>\n",
              "      <th>English</th>\n",
              "      <th>Pashto</th>\n",
              "    </tr>\n",
              "  </thead>\n",
              "  <tbody>\n",
              "    <tr>\n",
              "      <th>0</th>\n",
              "      <td>KDE4</td>\n",
              "      <td>Size &amp; &amp; Orientation</td>\n",
              "      <td>کچ &amp; &amp; لورموندنه</td>\n",
              "    </tr>\n",
              "    <tr>\n",
              "      <th>1</th>\n",
              "      <td>KDE4</td>\n",
              "      <td>Graphics Adaptor</td>\n",
              "      <td>کښنيز اړوونی</td>\n",
              "    </tr>\n",
              "    <tr>\n",
              "      <th>2</th>\n",
              "      <td>KDE4</td>\n",
              "      <td>3D Options</td>\n",
              "      <td>غوراوي 3D</td>\n",
              "    </tr>\n",
              "    <tr>\n",
              "      <th>3</th>\n",
              "      <td>KDE4</td>\n",
              "      <td>Monitor Gamma</td>\n",
              "      <td>ليداني ګاما</td>\n",
              "    </tr>\n",
              "    <tr>\n",
              "      <th>4</th>\n",
              "      <td>KDE4</td>\n",
              "      <td>Multiple Monitors</td>\n",
              "      <td>ګڼ ليداني</td>\n",
              "    </tr>\n",
              "    <tr>\n",
              "      <th>...</th>\n",
              "      <td>...</td>\n",
              "      <td>...</td>\n",
              "      <td>...</td>\n",
              "    </tr>\n",
              "    <tr>\n",
              "      <th>27113</th>\n",
              "      <td>Bible</td>\n",
              "      <td>The Spirit and the bride say: \" Come \" And let...</td>\n",
              "      <td>رُوحُ القُدس اَؤ ناوے وائى چه ” راشه ! “ اَؤ ه...</td>\n",
              "    </tr>\n",
              "    <tr>\n",
              "      <th>27114</th>\n",
              "      <td>Bible</td>\n",
              "      <td>I testify to every man who hears the words of ...</td>\n",
              "      <td>زَۀ هر چا ته دا خبردارے ورکوم چه دَ دے کتاب دَ...</td>\n",
              "    </tr>\n",
              "    <tr>\n",
              "      <th>27115</th>\n",
              "      <td>Bible</td>\n",
              "      <td>If any man shall take away from the words of t...</td>\n",
              "      <td>که څوک دَ پيشن ګويو دَ دے کتاب نه څۀ کمے وکړى ...</td>\n",
              "    </tr>\n",
              "    <tr>\n",
              "      <th>27116</th>\n",
              "      <td>Bible</td>\n",
              "      <td>He who testifies to these things says: \" I com...</td>\n",
              "      <td>اَؤ څوک چه دَ دے خبرو شهادت ورکوى هغه وائى چه ...</td>\n",
              "    </tr>\n",
              "    <tr>\n",
              "      <th>27117</th>\n",
              "      <td>Bible</td>\n",
              "      <td>The grace of our Lord Jesus Christ be with you...</td>\n",
              "      <td>دَ مالِک عيسىٰ فضل دِ په تاسو ټولو وى ، آمين .</td>\n",
              "    </tr>\n",
              "  </tbody>\n",
              "</table>\n",
              "<p>27118 rows × 3 columns</p>\n",
              "</div>"
            ],
            "text/plain": [
              "      Source  ...                                             Pashto\n",
              "0       KDE4  ...                                   کچ & & لورموندنه\n",
              "1       KDE4  ...                                       کښنيز اړوونی\n",
              "2       KDE4  ...                                          غوراوي 3D\n",
              "3       KDE4  ...                                        ليداني ګاما\n",
              "4       KDE4  ...                                          ګڼ ليداني\n",
              "...      ...  ...                                                ...\n",
              "27113  Bible  ...  رُوحُ القُدس اَؤ ناوے وائى چه ” راشه ! “ اَؤ ه...\n",
              "27114  Bible  ...  زَۀ هر چا ته دا خبردارے ورکوم چه دَ دے کتاب دَ...\n",
              "27115  Bible  ...  که څوک دَ پيشن ګويو دَ دے کتاب نه څۀ کمے وکړى ...\n",
              "27116  Bible  ...  اَؤ څوک چه دَ دے خبرو شهادت ورکوى هغه وائى چه ...\n",
              "27117  Bible  ...     دَ مالِک عيسىٰ فضل دِ په تاسو ټولو وى ، آمين .\n",
              "\n",
              "[27118 rows x 3 columns]"
            ]
          },
          "metadata": {
            "tags": []
          },
          "execution_count": 89
        }
      ]
    },
    {
      "cell_type": "markdown",
      "metadata": {
        "id": "-SB7WTG5r0K5",
        "colab_type": "text"
      },
      "source": [
        "-------------------------------------------------\n",
        "# Preprocessing"
      ]
    },
    {
      "cell_type": "code",
      "metadata": {
        "id": "wNR_VxnzL2Ev",
        "colab_type": "code",
        "colab": {}
      },
      "source": [
        "# Module for creating dictionary and dataloaders\n",
        "\n",
        "#Classes: Dictionary, TensoredDataset\n",
        "#Fcns: indexize_dataset, pad_list_of_tensors, pad_collate_fn\n",
        "\n",
        "# Dictionary object of all vocab in dataset to indices\n",
        "class Dictionary(object):\n",
        "    def __init__(self, datasets, language, include_valid=False):\n",
        "        self.tokens = []\n",
        "        self.ids = {}\n",
        "        self.counts = {}\n",
        "        \n",
        "        # add special tokens\n",
        "        self.add_token('<pad>')\n",
        "        self.add_token('<unk>')\n",
        "        \n",
        "        for line in tqdm(datasets[language]):\n",
        "            for w in line:\n",
        "                self.add_token(w)\n",
        "      \n",
        "    def add_token(self, w):\n",
        "        if w not in self.tokens:\n",
        "            self.tokens.append(w)\n",
        "            _w_id = len(self.tokens) - 1\n",
        "            self.ids[w] = _w_id\n",
        "            self.counts[w] = 1\n",
        "        else:\n",
        "            self.counts[w] += 1\n",
        "\n",
        "    def get_id(self, w):\n",
        "        return self.ids[w]\n",
        "    \n",
        "    def get_token(self, idx):\n",
        "        return self.tokens[idx]\n",
        "    \n",
        "    def decode_idx_seq(self, l):\n",
        "        return [self.tokens[i] for i in l]\n",
        "    \n",
        "    def encode_token_seq(self, l):\n",
        "        return [self.ids[i] if i in self.ids else self.ids['<unk>'] for i in l]\n",
        "    \n",
        "    def __len__(self):\n",
        "        return len(self.tokens)\n",
        "\n",
        "\n",
        "#Encode all reviews in index form using above dictionary\n",
        "def indexize_dataset(datasets, language, dictionary):\n",
        "    indexized_datasets = []\n",
        "    for l in tqdm(datasets[language]):\n",
        "        encoded_l = dictionary.encode_token_seq(l)\n",
        "        indexized_datasets.append(encoded_l)\n",
        "        \n",
        "    return indexized_datasets\n",
        "\n",
        "\n",
        "#TensoredDataset object is needed to create Dataloaders for model training, uses the indexized datasets\n",
        "class TensoredDataset(object):\n",
        "    def __init__(self, list_of_lists_of_tokens):\n",
        "        self.input_tensors = []\n",
        "        self.flagged_index = []\n",
        "        \n",
        "        for sample in list_of_lists_of_tokens:\n",
        "            self.input_tensors.append(torch.tensor([sample], dtype=torch.long))\n",
        "        \n",
        "    def __len__(self):\n",
        "        return len(self.input_tensors)\n",
        "    \n",
        "    def __getitem__(self, idx):\n",
        "        # return a (input, target) tuple\n",
        "        return (self.input_tensors[idx])\n",
        "\n",
        "\n",
        "\n",
        "def pad_list_of_tensors(list_of_tensors, pad_token):\n",
        "    max_length = 40\n",
        "    padded_list = []\n",
        "    \n",
        "    for t in list_of_tensors:    \n",
        "        padded_tensor = torch.cat([t, torch.tensor([[pad_token]*(max_length - t.size(-1))], dtype=torch.long)], dim = -1)\n",
        "        padded_list.append(padded_tensor[:max_length])\n",
        "        \n",
        "    padded_tensor = torch.cat(padded_list, dim=0)\n",
        "    \n",
        "    return padded_tensor\n",
        "\n",
        "def pad_collate_fn(batch):\n",
        "    # batch is a list of sample tuples\n",
        "    token_list = [s[0] for s in batch]\n",
        "    \n",
        "    #pad_token = persona_dict.get_id('<pad>')\n",
        "    pad_token = 0\n",
        "    \n",
        "    input_tensor = pad_list_of_tensors(token_list, pad_token)\n",
        "    \n",
        "    return input_tensor\n",
        "\n",
        "# Random seed\n",
        "seed = 1029\n",
        "\n",
        "torch.manual_seed(seed)\n",
        "torch.cuda.manual_seed(seed)\n",
        "torch.cuda.manual_seed_all(seed)  # if you are using multi-GPU.\n",
        "np.random.seed(seed)  # Numpy module.\n",
        "random.seed(seed)  # Python random module.\n",
        "torch.manual_seed(seed)\n",
        "torch.backends.cudnn.enabled = False \n",
        "torch.backends.cudnn.benchmark = False\n",
        "torch.backends.cudnn.deterministic = True\n",
        "\n",
        "if torch.cuda.is_available(): torch.cuda.manual_seed_all(seed)\n",
        "\n",
        "def _init_fn(worker_id):\n",
        "    np.random.seed(int(seed))"
      ],
      "execution_count": 0,
      "outputs": []
    },
    {
      "cell_type": "markdown",
      "metadata": {
        "id": "4ZfopIv0Lz1B",
        "colab_type": "text"
      },
      "source": [
        "# Create Dictionary and Dataloader"
      ]
    },
    {
      "cell_type": "markdown",
      "metadata": {
        "id": "6Qn6KZYjLz1l",
        "colab_type": "text"
      },
      "source": [
        "### Train-Test split\n",
        "train:70%, val:15%, test:15% \n",
        "\n",
        "stratified by source"
      ]
    },
    {
      "cell_type": "code",
      "metadata": {
        "id": "oPiV6DiZLz1n",
        "colab_type": "code",
        "colab": {}
      },
      "source": [
        "od_train, remain_od = train_test_split(od_data, test_size=0.3, stratify=od_data['Source'])\n",
        "od_val, od_test = train_test_split(remain_od, test_size=0.5, stratify=remain_od['Source'])"
      ],
      "execution_count": 0,
      "outputs": []
    },
    {
      "cell_type": "code",
      "metadata": {
        "id": "raMlRDGdvgwK",
        "colab_type": "code",
        "colab": {}
      },
      "source": [
        "ps_train, remain_ps = train_test_split(ps_data, test_size=0.3, stratify=ps_data['Source'])\n",
        "ps_val, ps_test = train_test_split(remain_ps, test_size=0.5, stratify=remain_ps['Source'])"
      ],
      "execution_count": 0,
      "outputs": []
    },
    {
      "cell_type": "markdown",
      "metadata": {
        "id": "JglmBIZEwBJY",
        "colab_type": "text"
      },
      "source": [
        "### Make a dictionary"
      ]
    },
    {
      "cell_type": "code",
      "metadata": {
        "id": "-AoP_OsILz2W",
        "colab_type": "code",
        "colab": {
          "base_uri": "https://localhost:8080/",
          "height": 52
        },
        "outputId": "e161c69a-9650-4d59-8aa7-be8b64c01a28"
      },
      "source": [
        "en_ps_dict = Dictionary(kde4, language='English', include_valid=False)\n",
        "ps_dict = Dictionary(kde4, language='Pashto', include_valid=False)\n",
        "#en_od_dict = Dictionary(od_data, language='English', include_valid=False)\n",
        "#od_dict = Dictionary(od_data, language='Odia', include_valid=False)\n",
        "#en_cz_dict = Dictionary(fr_data, language='English', include_valid=False)\n",
        "#cz_dict = Dictionary(fr_data, language='French', include_valid=False)"
      ],
      "execution_count": 151,
      "outputs": [
        {
          "output_type": "stream",
          "text": [
            "100%|██████████| 3377/3377 [00:00<00:00, 88920.61it/s]\n",
            "100%|██████████| 3377/3377 [00:00<00:00, 59401.98it/s]\n"
          ],
          "name": "stderr"
        }
      ]
    },
    {
      "cell_type": "code",
      "metadata": {
        "id": "dQ0i0rWiLz2Z",
        "colab_type": "code",
        "colab": {}
      },
      "source": [
        "#save Dictinaries\n",
        "pickle_dict = open(data_dir + \"dictionary.p\",\"wb\")\n",
        "pickle.dump(review_dict, pickle_dict)\n",
        "pickle_dict.close()"
      ],
      "execution_count": 0,
      "outputs": []
    },
    {
      "cell_type": "code",
      "metadata": {
        "id": "xS3tMbjZLz2i",
        "colab_type": "code",
        "colab": {
          "base_uri": "https://localhost:8080/",
          "height": 124
        },
        "outputId": "e4cb3745-cfd2-4193-c6ec-5657d35481ce"
      },
      "source": [
        "# Indexited dataset\n",
        "#indexized_od_train_dataset = indexize_dataset(od_train, od_dict)\n",
        "indexized_ps_train_dataset = indexize_dataset(ps_train, language='Pashto', dictionary = ps_dict)\n",
        "#indexized_cz_train_dataset = indexize_dataset(fr_train, fr_dict)\n",
        "\n",
        "#indexized_od_val_dataset = indexize_dataset(od_val, od_dict)\n",
        "indexized_ps_val_dataset = indexize_dataset(ps_val, language='Pashto',dictionary =ps_dict)\n",
        "#indexized_cz_val_dataset = indexize_dataset(fr_val, fr_dict)\n",
        "\n",
        "#indexized_od_test_dataset = indexize_dataset(od_test, od_dict)\n",
        "indexized_ps_test_dataset = indexize_dataset(ps_test, language='Pashto', dictionary =ps_dict)\n",
        "#indexized_cz_test_dataset = indexize_dataset(fr_test, fr_dict)\n",
        "\n",
        "# English\n",
        "#indexized_en_od_train_dataset = indexize_dataset(od_train, en_od_dict)\n",
        "indexized_en_ps_train_dataset = indexize_dataset(ps_train, language='English', dictionary =en_ps_dict)\n",
        "#indexized_en_cz_train_dataset = indexize_dataset(fr_train, en_fr_dict)\n",
        "\n",
        "#indexized_en_od_val_dataset = indexize_dataset(od_val, en_od_dict)\n",
        "indexized_en_ps_val_dataset = indexize_dataset(ps_val,language='English', dictionary =en_ps_dict)\n",
        "#indexized_en_cz_val_dataset = indexize_dataset(fr_val, en_fr_dict)\n",
        "\n",
        "#indexized_en_od_test_dataset = indexize_dataset(od_test, en_od_dict)\n",
        "indexized_en_ps_test_dataset = indexize_dataset(ps_test, language='English', dictionary =en_ps_dict)\n",
        "#indexized_en_cz_test_dataset = indexize_dataset(fr_test, en_fr_dict)"
      ],
      "execution_count": 163,
      "outputs": [
        {
          "output_type": "stream",
          "text": [
            "100%|██████████| 18982/18982 [00:00<00:00, 62451.83it/s]\n",
            "100%|██████████| 4068/4068 [00:00<00:00, 59989.20it/s]\n",
            "100%|██████████| 4068/4068 [00:00<00:00, 64171.01it/s]\n",
            "100%|██████████| 18982/18982 [00:00<00:00, 51454.94it/s]\n",
            "100%|██████████| 4068/4068 [00:00<00:00, 86850.26it/s]\n",
            "100%|██████████| 4068/4068 [00:00<00:00, 85623.81it/s]\n"
          ],
          "name": "stderr"
        }
      ]
    },
    {
      "cell_type": "code",
      "metadata": {
        "id": "sbg5UxqFLz2k",
        "colab_type": "code",
        "colab": {}
      },
      "source": [
        "# Tensored dataset\n",
        "#tensor_od_tr_dataset = TensoredDataset(indexized_od_train_dataset)\n",
        "tensor_ps_tr_dataset = TensoredDataset(indexized_ps_train_dataset)\n",
        "#tensor_cz_tr_dataset = TensoredDataset(indexized_fr_train_dataset)\n",
        "\n",
        "#tensor_od_val_dataset = TensoredDataset(indexized_od_train_dataset)\n",
        "tensor_ps_val_dataset = TensoredDataset(indexized_ps_train_dataset)\n",
        "#tensor_cz_val_dataset = TensoredDataset(indexized_fr_train_dataset)\n",
        "\n",
        "#tensor_od_test_dataset = TensoredDataset(indexized_od_train_dataset)\n",
        "tensor_ps_test_dataset = TensoredDataset(indexized_ps_train_dataset)\n",
        "#tensor_cz_test_dataset = TensoredDataset(indexized_fr_train_dataset)\n",
        "\n",
        "# English\n",
        "#tensor_en_od_tr_dataset = TensoredDataset(indexized_od_train_dataset)\n",
        "tensor_en_ps_tr_dataset = TensoredDataset(indexized_ps_train_dataset)\n",
        "#tensor_en_cz_tr_dataset = TensoredDataset(indexized_fr_train_dataset)\n",
        "\n",
        "#tensor_en_od_val_dataset = TensoredDataset(indexized_od_train_dataset)\n",
        "tensor_en_ps_val_dataset = TensoredDataset(indexized_ps_train_dataset)\n",
        "#tensor_en_cz_val_dataset = TensoredDataset(indexized_fr_train_dataset)\n",
        "\n",
        "#tensor_en_od_test_dataset = TensoredDataset(indexized_od_train_dataset)\n",
        "tensor_en_ps_test_dataset = TensoredDataset(indexized_ps_train_dataset)\n",
        "#tensor_en_cz_test_dataset = TensoredDataset(indexized_fr_train_dataset)"
      ],
      "execution_count": 0,
      "outputs": []
    },
    {
      "cell_type": "code",
      "metadata": {
        "id": "u3gWcnowLz2n",
        "colab_type": "code",
        "colab": {
          "base_uri": "https://localhost:8080/",
          "height": 35
        },
        "outputId": "7bafc2f7-4ab3-413e-ca50-569c6f6b7cc8"
      },
      "source": [
        "# check the first example\n",
        "tensor_en_ps_val_dataset[100]"
      ],
      "execution_count": 170,
      "outputs": [
        {
          "output_type": "execute_result",
          "data": {
            "text/plain": [
              "tensor([[ 38,   7,  27,   4,  24,  10,  11,   7,   6, 131]])"
            ]
          },
          "metadata": {
            "tags": []
          },
          "execution_count": 170
        }
      ]
    },
    {
      "cell_type": "code",
      "metadata": {
        "id": "nls8q5XdLz2p",
        "colab_type": "code",
        "colab": {}
      },
      "source": [
        "# Random seed\n",
        "seed = 1029\n",
        "\n",
        "torch.manual_seed(seed)\n",
        "torch.cuda.manual_seed(seed)\n",
        "torch.cuda.manual_seed_all(seed)  # if you are using multi-GPU.\n",
        "np.random.seed(seed)  # Numpy module.\n",
        "random.seed(seed)  # Python random module.\n",
        "torch.manual_seed(seed)\n",
        "torch.backends.cudnn.enabled = False \n",
        "torch.backends.cudnn.benchmark = False\n",
        "torch.backends.cudnn.deterministic = True\n",
        "\n",
        "if torch.cuda.is_available(): torch.cuda.manual_seed_all(seed)\n",
        "\n",
        "def _init_fn(worker_id):\n",
        "    np.random.seed(int(seed))\n",
        "\n",
        "\n",
        "# Dataloader\n",
        "batch_size = 32\n",
        "\n",
        "#od_train_dataloader = DataLoader(tensor_od_tr_dataset, batch_size=batch_size, shuffle=True, num_workers=0, collate_fn=pad_collate_fn, worker_init_fn=_init_fn)\n",
        "ps_train_dataloader = DataLoader(tensor_ps_tr_dataset, batch_size=batch_size, shuffle=True, num_workers=0, collate_fn=pad_collate_fn, worker_init_fn=_init_fn)\n",
        "#cz_train_dataloader = DataLoader(tensor_fr_tr_dataset, batch_size=batch_size, shuffle=True, num_workers=0, collate_fn=pad_collate_fn, worker_init_fn=_init_fn)\n",
        "\n",
        "#od_val_dataloader = DataLoader(tensor_od_val_dataset, batch_size=batch_size, shuffle=True, num_workers=0, collate_fn=pad_collate_fn, worker_init_fn=_init_fn)\n",
        "ps_val_dataloader = DataLoader(tensor_ps_val_dataset, batch_size=batch_size, shuffle=True, num_workers=0, collate_fn=pad_collate_fn, worker_init_fn=_init_fn)\n",
        "#cz_val_dataloader = DataLoader(tensor_fr_val_dataset, batch_size=batch_size, shuffle=True, num_workers=0, collate_fn=pad_collate_fn, worker_init_fn=_init_fn)\n",
        "\n",
        "#od_test_dataloader = DataLoader(tensor_od_test_dataset, batch_size=batch_size, shuffle=True, num_workers=0, collate_fn=pad_collate_fn, worker_init_fn=_init_fn)\n",
        "ps_test_dataloader = DataLoader(tensor_ps_test_dataset, batch_size=batch_size, shuffle=True, num_workers=0, collate_fn=pad_collate_fn, worker_init_fn=_init_fn)\n",
        "#cz_test_dataloader = DataLoader(tensor_fr_tset_dataset, batch_size=batch_size, shuffle=True, num_workers=0, collate_fn=pad_collate_fn, worker_init_fn=_init_fn)\n",
        "\n",
        "# English\n",
        "#en_od_train_dataloader = DataLoader(tensor_od_tr_dataset, batch_size=batch_size, shuffle=True, num_workers=0, collate_fn=pad_collate_fn, worker_init_fn=_init_fn)\n",
        "en_ps_train_dataloader = DataLoader(tensor_ps_tr_dataset, batch_size=batch_size, shuffle=True, num_workers=0, collate_fn=pad_collate_fn, worker_init_fn=_init_fn)\n",
        "#cz_fr_train_dataloader = DataLoader(tensor_fr_tr_dataset, batch_size=batch_size, shuffle=True, num_workers=0, collate_fn=pad_collate_fn, worker_init_fn=_init_fn)\n",
        "\n",
        "#en_od_val_dataloader = DataLoader(tensor_od_val_dataset, batch_size=batch_size, shuffle=True, num_workers=0, collate_fn=pad_collate_fn, worker_init_fn=_init_fn)\n",
        "en_ps_val_dataloader = DataLoader(tensor_ps_val_dataset, batch_size=batch_size, shuffle=True, num_workers=0, collate_fn=pad_collate_fn, worker_init_fn=_init_fn)\n",
        "#cz_fr_val_dataloader = DataLoader(tensor_fr_val_dataset, batch_size=batch_size, shuffle=True, num_workers=0, collate_fn=pad_collate_fn, worker_init_fn=_init_fn)\n",
        "\n",
        "#en_od_test_dataloader = DataLoader(tensor_od_test_dataset, batch_size=batch_size, shuffle=True, num_workers=0, collate_fn=pad_collate_fn, worker_init_fn=_init_fn)\n",
        "en_ps_test_dataloader = DataLoader(tensor_ps_test_dataset, batch_size=batch_size, shuffle=True, num_workers=0, collate_fn=pad_collate_fn, worker_init_fn=_init_fn)\n",
        "#cz_fr_test_dataloader = DataLoader(tensor_fr_test_dataset, batch_size=batch_size, shuffle=True, num_workers=0, collate_fn=pad_collate_fn, worker_init_fn=_init_fn)"
      ],
      "execution_count": 0,
      "outputs": []
    },
    {
      "cell_type": "markdown",
      "metadata": {
        "id": "1HHyJ1MHLz2r",
        "colab_type": "text"
      },
      "source": [
        "## Save Dataloaders"
      ]
    },
    {
      "cell_type": "code",
      "metadata": {
        "id": "Fil0OTA0Lz2s",
        "colab_type": "code",
        "colab": {}
      },
      "source": [
        "#ps_test_dataloader = open(os.path.join(data_dir, \"ps_test_dataloader.p\"),\"wb\")\n",
        "#pickle.dump(ps_test_dataloader, ps_test_dataloader)\n",
        "#ps_test_dataloader.close()"
      ],
      "execution_count": 0,
      "outputs": []
    }
  ]
}